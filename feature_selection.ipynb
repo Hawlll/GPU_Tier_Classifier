{
 "cells": [
  {
   "cell_type": "markdown",
   "id": "c13d6523",
   "metadata": {},
   "source": [
    "# Feature Selection for NBA Dataset (Predicting if the home team wins)"
   ]
  },
  {
   "cell_type": "markdown",
   "id": "02e18a79",
   "metadata": {},
   "source": [
    "Import Libraries"
   ]
  },
  {
   "cell_type": "code",
   "execution_count": 3,
   "id": "bcc114b4",
   "metadata": {},
   "outputs": [],
   "source": [
    "import sqlite3 as sql\n",
    "import pandas as pd\n",
    "import os"
   ]
  },
  {
   "cell_type": "markdown",
   "id": "e6e1b179",
   "metadata": {},
   "source": [
    "Connect to Database"
   ]
  },
  {
   "cell_type": "code",
   "execution_count": 4,
   "id": "2ad3a5a2",
   "metadata": {},
   "outputs": [],
   "source": [
    "conn = -1\n",
    "db_fp = os.path.join(\"data\", \"nba.sqlite\")\n",
    "assert os.path.exists(db_fp), \"Database file does not exist\"\n",
    "\n",
    "\n",
    "conn = sql.connect(db_fp)\n",
    "assert conn != -1, \"Database connection failed\""
   ]
  },
  {
   "cell_type": "markdown",
   "id": "d50cbe1d",
   "metadata": {},
   "source": [
    "## common_player_info table"
   ]
  },
  {
   "cell_type": "markdown",
   "id": "1fb3be58",
   "metadata": {},
   "source": [
    "Feature Descriptions\n",
    "\n",
    "person_id: A unique identification number for each player.  \n",
    "first_name: The first name of the player.  \n",
    "last_name: The last name of the player.  \n",
    "display_first_last: The player's name displayed as \"First Last\" (e.g., \"LeBron James\").  \n",
    "display_last_comma_first: The player's name displayed as \"Last, First\" (e.g., \"James, LeBron\").  \n",
    "display_fi_last: The player's name displayed as \"FirstInitial. Last\" (e.g., \"L. James\").  \n",
    "player_slug: A URL-friendly version of the player's name, often used for web links.  \n",
    "birthdate: The player's date of birth.  \n",
    "school: The college or university the player attended (if any).  \n",
    "country: The country where the player was born.  \n",
    "last_affiliation: Likely refers to the player's last known affiliation (e.g., college, league before NBA).  \n",
    "height: The player's height, likely in a standardized format (e.g., feet-inches or centimeters).  \n",
    "weight: The player's weight, likely in pounds or kilograms.  \n",
    "season_exp: The number of seasons the player has been in the NBA.  \n",
    "jersey: The player's jersey number.  \n",
    "position: The primary playing position(s) of the player (e.g., Guard, Forward, Center).  \n",
    "rosterstatus: Indicates if the player is currently on a team's active roster.  \n",
    "games_played_current_season_flag: A flag indicating if the player has played games in the current season (likely 1 for yes, 0 for no).  \n",
    "team_id: A unique identification number for the player's current team.  \n",
    "team_name: The full name of the player's current team.  \n",
    "team_abbreviation: The abbreviated name of the player's current team (e.g., LAL for Los Angeles Lakers).  \n",
    "team_code: A short code for the player's current team.  \n",
    "team_city: The city of the player's current team.  \n",
    "playercode: Another unique code or identifier for the player.  \n",
    "from_year: The first year the player was active in the NBA.  \n",
    "to_year: The last year the player was active in the NBA (or the current year if still active).  \n",
    "dleague_flag: A flag indicating if the player has played in the NBA G-League (formerly D-League).  \n",
    "nba_flag: A flag indicating if the player has played in the NBA.  \n",
    "games_played_flag: A general flag indicating if the player has played any games (could be in NBA, G-League, etc.).  \n",
    "draft_year: The year the player was drafted into the NBA.  \n",
    "draft_round: The round in which the player was drafted.  \n",
    "draft_number: The overall pick number in which the player was drafted.  \n",
    "greatest_75_flag: A flag indicating if the player was named to the NBA's 75th Anniversary Team.  "
   ]
  },
  {
   "cell_type": "code",
   "execution_count": 5,
   "id": "6b6f3feb",
   "metadata": {},
   "outputs": [
    {
     "data": {
      "text/plain": [
       "Index(['person_id', 'first_name', 'last_name', 'display_first_last',\n",
       "       'display_last_comma_first', 'display_fi_last', 'player_slug',\n",
       "       'birthdate', 'school', 'country', 'last_affiliation', 'height',\n",
       "       'weight', 'season_exp', 'jersey', 'position', 'rosterstatus',\n",
       "       'games_played_current_season_flag', 'team_id', 'team_name',\n",
       "       'team_abbreviation', 'team_code', 'team_city', 'playercode',\n",
       "       'from_year', 'to_year', 'dleague_flag', 'nba_flag', 'games_played_flag',\n",
       "       'draft_year', 'draft_round', 'draft_number', 'greatest_75_flag'],\n",
       "      dtype='object')"
      ]
     },
     "execution_count": 5,
     "metadata": {},
     "output_type": "execute_result"
    }
   ],
   "source": [
    "df = pd.read_sql_query(\"SELECT * FROM common_player_info\", conn)\n",
    "df.columns"
   ]
  },
  {
   "cell_type": "markdown",
   "id": "7944101e",
   "metadata": {},
   "source": [
    "Player experience can be useful in determining player performance (player value). The team's player performance would play a crucial role in predicting the game winner, with higher average player performance increasing the chance of winning.\n",
    "\n",
    "Player demographics, while less impactful, can still have an affect. A taller or heavier player could indicate stronger performances. A certain country could produce better NBA players than others. Most NBA players reach their 'prime' in the late 20s. In order to validate these hypotheses, further EDA is needed.\n",
    "\n",
    "Player identification, such as name and jersey number, will not have an affect and can be disregarded.\n",
    "\n",
    "Resulting Features:\n",
    "'birthdate', 'school', 'country', 'height', 'weight', 'draft_year', 'season_exp', 'draft_number'"
   ]
  },
  {
   "cell_type": "markdown",
   "id": "a1d8c6d0",
   "metadata": {},
   "source": [
    "## draft_combine_stats table"
   ]
  },
  {
   "cell_type": "markdown",
   "id": "84c9b566",
   "metadata": {},
   "source": [
    "Feature Descriptions\n",
    "\n",
    "season: The NBA season (e.g., '2022-23') in which the draft combine took place.  \n",
    "player_id: A unique identification number for each player.  \n",
    "first_name: The first name of the player.  \n",
    "last_name: The last name of the player.  \n",
    "player_name: The full name of the player (e.g., \"John Doe\").  \n",
    "position: The primary playing position(s) of the player.  \n",
    "height_wo_shoes: The player's height measured without shoes, likely in inches or centimeters.  \n",
    "height_wo_shoes_ft_in: The player's height without shoes, displayed in feet and inches (e.g., \"6'8.5\").  \n",
    "height_w_shoes: The player's height measured with shoes, likely in inches or centimeters.  \n",
    "height_w_shoes_ft_in: The player's height with shoes, displayed in feet and inches.  \n",
    "weight: The player's weight, likely in pounds.  \n",
    "wingspan: The player's arm span from fingertip to fingertip, likely in inches or centimeters.  \n",
    "wingspan_ft_in: The player's wingspan, displayed in feet and inches.  \n",
    "standing_reach: The player's reach with arms fully extended upwards while standing flat-footed, likely in inches or centimeters.  \n",
    "standing_reach_ft_in: The player's standing reach, displayed in feet and inches.  \n",
    "body_fat_pct: The player's body fat percentage.  \n",
    "hand_length: The length of the player's hand, likely in inches or centimeters.  \n",
    "hand_width: The width of the player's hand, likely in inches or centimeters.  \n",
    "standing_vertical_leap: The player's vertical jump height starting from a standing position.  \n",
    "max_vertical_leap: The player's maximum vertical jump height, often with a running start.  \n",
    "lane_agility_time: The time taken by the player to complete a specific agility drill on the court.  \n",
    "modified_lane_agility_time: Another measurement of agility, possibly a variation of the lane agility drill.  \n",
    "three_quarter_sprint: The time taken by the player to sprint three-quarters of the court length.  \n",
    "bench_press: The number of repetitions a player can complete on the bench press with a specific weight (often 185 lbs).  \n",
    "\n",
    "The following columns relate to shooting drills, with varying distances and starting points:  \n",
    "\n",
    "spot_fifteen_corner_left: Shooting percentage from a \"spot up\" (stationary) position, 15 feet from the basket, in the left corner.  \n",
    "spot_fifteen_break_left: Shooting percentage from a spot-up position, 15 feet from the basket, on the left \"break\" (mid-range area).  \n",
    "spot_fifteen_top_key: Shooting percentage from a spot-up position, 15 feet from the basket, at the top of the key.  \n",
    "spot_fifteen_break_right: Shooting percentage from a spot-up position, 15 feet from the basket, on the right \"break\".  \n",
    "spot_fifteen_corner_right: Shooting percentage from a spot-up position, 15 feet from the basket, in the right corner.  \n",
    "spot_college_corner_left: Shooting percentage from a spot-up position, from college three-point range, in the left corner.  \n",
    "spot_college_break_left: Shooting percentage from a spot-up position, from college three-point range, on the left break.  \n",
    "spot_college_top_key: Shooting percentage from a spot-up position, from college three-point range, at the top of the key.  \n",
    "spot_college_break_right: Shooting percentage from a spot-up position, from college three-point range, on the right break.  \n",
    "spot_college_corner_right: Shooting percentage from a spot-up position, from college three-point range, in the right corner.  \n",
    "spot_nba_corner_left: Shooting percentage from a spot-up position, from NBA three-point range, in the left corner.  \n",
    "spot_nba_break_left: Shooting percentage from a spot-up position, from NBA three-point range, on the left break.  \n",
    "spot_nba_top_key: Shooting percentage from a spot-up position, from NBA three-point range, at the top of the key.  \n",
    "spot_nba_break_right: Shooting percentage from a spot-up position, from NBA three-point range, on the right break.  \n",
    "spot_nba_corner_right: Shooting percentage from a spot-up position, from NBA three-point range, in the right corner.  \n",
    "off_drib_fifteen_break_left: Shooting percentage from \"off the dribble\" (after dribbling), 15 feet from the basket, on the left break.  \n",
    "off_drib_fifteen_top_key: Shooting percentage off the dribble, 15 feet from the basket, at the top of the key.  \n",
    "off_drib_fifteen_break_right: Shooting percentage off the dribble, 15 feet from the basket, on the right break.  \n",
    "off_drib_college_break_left: Shooting percentage off the dribble, from college three-point range, on the left break.  \n",
    "off_drib_college_top_key: Shooting percentage off the dribble, from college three-point range, at the top of the key.  \n",
    "off_drib_college_break_right: Shooting percentage off the dribble, from college three-point range, on the right break.  \n",
    "on_move_fifteen: Shooting percentage while \"on the move\" (moving without the ball), from 15 feet.  \n",
    "on_move_college: Shooting percentage while on the move, from college three-point range.  "
   ]
  },
  {
   "cell_type": "code",
   "execution_count": 7,
   "id": "dd87bcf5",
   "metadata": {},
   "outputs": [
    {
     "data": {
      "text/plain": [
       "Index(['season', 'player_id', 'first_name', 'last_name', 'player_name',\n",
       "       'position', 'height_wo_shoes', 'height_wo_shoes_ft_in',\n",
       "       'height_w_shoes', 'height_w_shoes_ft_in', 'weight', 'wingspan',\n",
       "       'wingspan_ft_in', 'standing_reach', 'standing_reach_ft_in',\n",
       "       'body_fat_pct', 'hand_length', 'hand_width', 'standing_vertical_leap',\n",
       "       'max_vertical_leap', 'lane_agility_time', 'modified_lane_agility_time',\n",
       "       'three_quarter_sprint', 'bench_press', 'spot_fifteen_corner_left',\n",
       "       'spot_fifteen_break_left', 'spot_fifteen_top_key',\n",
       "       'spot_fifteen_break_right', 'spot_fifteen_corner_right',\n",
       "       'spot_college_corner_left', 'spot_college_break_left',\n",
       "       'spot_college_top_key', 'spot_college_break_right',\n",
       "       'spot_college_corner_right', 'spot_nba_corner_left',\n",
       "       'spot_nba_break_left', 'spot_nba_top_key', 'spot_nba_break_right',\n",
       "       'spot_nba_corner_right', 'off_drib_fifteen_break_left',\n",
       "       'off_drib_fifteen_top_key', 'off_drib_fifteen_break_right',\n",
       "       'off_drib_college_break_left', 'off_drib_college_top_key',\n",
       "       'off_drib_college_break_right', 'on_move_fifteen', 'on_move_college'],\n",
       "      dtype='object')"
      ]
     },
     "execution_count": 7,
     "metadata": {},
     "output_type": "execute_result"
    }
   ],
   "source": [
    "df = pd.read_sql_query(\"SELECT * FROM draft_combine_stats\", conn)\n",
    "df.columns"
   ]
  },
  {
   "cell_type": "markdown",
   "id": "ebfa0d4e",
   "metadata": {},
   "source": [
    "## game table"
   ]
  },
  {
   "cell_type": "markdown",
   "id": "dd85f8c1",
   "metadata": {},
   "source": [
    "Feature Descriptions\n",
    "\n",
    "season_id: A unique identifier for the NBA season (e.g., 22023 might represent the 2023-2024 season).  \n",
    "game_id: A unique identifier for this specific game.\n",
    "game_date: The date the game was played (e.g., '2023-10-24').\n",
    "season_type: Indicates the part of the season (e.g., 'Regular Season', 'Playoffs', 'Pre Season', 'Play-In').\n",
    "\n",
    "Home Team Information & Stats:\n",
    "\n",
    "team_id_home: The unique numerical identifier for the home team.  \n",
    "team_abbreviation_home: The standard abbreviation for the home team (e.g., 'LAL', 'GSW', 'BOS').  \n",
    "team_name_home: The full name of the home team (e.g., 'Los Angeles Lakers', 'Golden State Warriors').  \n",
    "matchup_home: A string describing the matchup from the home team's perspective (e.g., 'LAL vs. DEN').  \n",
    "wl_home: The result of the game for the home team, likely 'W' for a win or 'L' for a loss.  \n",
    "min: Minutes played in the game. For a team game log, this is usually the total duration (48 for regulation, 53 for 1OT, etc.).  \n",
    "fgm_home: Field Goals Made by the home team.  \n",
    "fga_home: Field Goals Attempted by the home team.  \n",
    "fg_pct_home: Field Goal Percentage for the home team (FGM / FGA).  \n",
    "fg3m_home: Three-Point Field Goals Made by the home team.  \n",
    "fg3a_home: Three-Point Field Goals Attempted by the home team.  \n",
    "fg3_pct_home: Three-Point Field Goal Percentage for the home team (FG3M / FG3A).  \n",
    "ftm_home: Free Throws Made by the home team.  \n",
    "fta_home: Free Throws Attempted by the home team.  \n",
    "ft_pct_home: Free Throw Percentage for the home team (FTM / FTA).  \n",
    "oreb_home: Offensive Rebounds by the home team.  \n",
    "dreb_home: Defensive Rebounds by the home team.  \n",
    "reb_home: Total Rebounds by the home team (OREB + DREB).  \n",
    "ast_home: Assists by the home team.  \n",
    "stl_home: Steals by the home team.  \n",
    "blk_home: Blocks by the home team.  \n",
    "tov_home: Turnovers committed by the home team.  \n",
    "pf_home: Personal Fouls committed by the home team.  \n",
    "pts_home: Total Points scored by the home team.  \n",
    "plus_minus_home: The final score differential for the home team (Points Scored - Points Allowed; essentially pts_home - pts_away).  \n",
    "video_available_home: A flag (likely 1 or 0 / True or False) indicating if video footage/highlights are available for this game, potentially from the home team's perspective or feed.  \n",
    "\n",
    "Away Team Information & Stats:\n",
    "\n",
    "team_id_away: The unique numerical identifier for the away team.  \n",
    "team_abbreviation_away: The standard abbreviation for the away team.  \n",
    "team_name_away: The full name of the away team.  \n",
    "matchup_away: A string describing the matchup from the away team's perspective (e.g., 'DEN @ LAL').  \n",
    "wl_away: The result of the game for the away team, likely 'W' for a win or 'L' for a loss.  \n",
    "fgm_away: Field Goals Made by the away team.  \n",
    "fga_away: Field Goals Attempted by the away team.  \n",
    "fg_pct_away: Field Goal Percentage for the away team.  \n",
    "fg3m_away: Three-Point Field Goals Made by the away team.  \n",
    "fg3a_away: Three-Point Field Goals Attempted by the away team.  \n",
    "fg3_pct_away: Three-Point Field Goal Percentage for the away team.  \n",
    "ftm_away: Free Throws Made by the away team.  \n",
    "fta_away: Free Throws Attempted by the away team.  \n",
    "ft_pct_away: Free Throw Percentage for the away team.  \n",
    "oreb_away: Offensive Rebounds by the away team.  \n",
    "dreb_away: Defensive Rebounds by the away team.  \n",
    "reb_away: Total Rebounds by the away team.  \n",
    "ast_away: Assists by the away team.  \n",
    "stl_away: Steals by the away team.  \n",
    "blk_away: Blocks by the away team.  \n",
    "tov_away: Turnovers committed by the away team.  \n",
    "pf_away: Personal Fouls committed by the away team.  \n",
    "pts_away: Total Points scored by the away team.  \n",
    "plus_minus_away: The final score differential for the away team (Points Scored - Points Allowed; essentially pts_away - pts_home). This should be the negative of plus_minus_home.  \n",
    "video_available_away: A flag indicating if video footage/highlights are available for this game, potentially from the away team's perspective or feed.  "
   ]
  },
  {
   "cell_type": "code",
   "execution_count": 6,
   "id": "50f2f9cc",
   "metadata": {},
   "outputs": [
    {
     "data": {
      "text/plain": [
       "Index(['season_id', 'team_id_home', 'team_abbreviation_home', 'team_name_home',\n",
       "       'game_id', 'game_date', 'matchup_home', 'wl_home', 'min', 'fgm_home',\n",
       "       'fga_home', 'fg_pct_home', 'fg3m_home', 'fg3a_home', 'fg3_pct_home',\n",
       "       'ftm_home', 'fta_home', 'ft_pct_home', 'oreb_home', 'dreb_home',\n",
       "       'reb_home', 'ast_home', 'stl_home', 'blk_home', 'tov_home', 'pf_home',\n",
       "       'pts_home', 'plus_minus_home', 'video_available_home', 'team_id_away',\n",
       "       'team_abbreviation_away', 'team_name_away', 'matchup_away', 'wl_away',\n",
       "       'fgm_away', 'fga_away', 'fg_pct_away', 'fg3m_away', 'fg3a_away',\n",
       "       'fg3_pct_away', 'ftm_away', 'fta_away', 'ft_pct_away', 'oreb_away',\n",
       "       'dreb_away', 'reb_away', 'ast_away', 'stl_away', 'blk_away', 'tov_away',\n",
       "       'pf_away', 'pts_away', 'plus_minus_away', 'video_available_away',\n",
       "       'season_type'],\n",
       "      dtype='object')"
      ]
     },
     "execution_count": 6,
     "metadata": {},
     "output_type": "execute_result"
    }
   ],
   "source": [
    "df = pd.read_sql_query(\"SELECT * FROM game\", conn)\n",
    "\n",
    "df.columns"
   ]
  },
  {
   "cell_type": "markdown",
   "id": "2337ab73",
   "metadata": {},
   "source": [
    "Since our goal is to predict the probability of the home team winning at the start of the game, we need to eliminate features that would not be available to the model. This way, we can avoid data leakage, which would lead to high performance on training set but low performance on test set."
   ]
  },
  {
   "cell_type": "markdown",
   "id": "cca34654",
   "metadata": {},
   "source": [
    "These data-leaking features will include all game metrics. Furthermore, the 'id' columns can be disregarded in the model as they wouldn't provide useful information to the model. Lastly, 'matchup' and 'team_abbreviation' can be dropped, and 'team_name' will used instead to retrieve team data.\n",
    "\n",
    "Resulting features:\n",
    "'game_date', 'team_name_home', 'team_name_away'\n",
    "\n",
    "**The target feature is 'wl_home'.**"
   ]
  }
 ],
 "metadata": {
  "kernelspec": {
   "display_name": "Python 3",
   "language": "python",
   "name": "python3"
  },
  "language_info": {
   "codemirror_mode": {
    "name": "ipython",
    "version": 3
   },
   "file_extension": ".py",
   "mimetype": "text/x-python",
   "name": "python",
   "nbconvert_exporter": "python",
   "pygments_lexer": "ipython3",
   "version": "3.9.0"
  }
 },
 "nbformat": 4,
 "nbformat_minor": 5
}
