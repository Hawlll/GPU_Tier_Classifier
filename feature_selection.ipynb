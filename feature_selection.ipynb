{
 "cells": [
  {
   "cell_type": "markdown",
   "id": "c13d6523",
   "metadata": {},
   "source": [
    "# Feature Selection for NBA Dataset (Predicting Home Team Win Probability)"
   ]
  },
  {
   "cell_type": "markdown",
   "id": "02e18a79",
   "metadata": {},
   "source": [
    "Import Libraries"
   ]
  },
  {
   "cell_type": "code",
   "execution_count": 1,
   "id": "bcc114b4",
   "metadata": {},
   "outputs": [],
   "source": [
    "import sqlite3 as sql\n",
    "import pandas as pd\n",
    "import os"
   ]
  },
  {
   "cell_type": "markdown",
   "id": "e6e1b179",
   "metadata": {},
   "source": [
    "Connect to Database"
   ]
  },
  {
   "cell_type": "code",
   "execution_count": 2,
   "id": "2ad3a5a2",
   "metadata": {},
   "outputs": [],
   "source": [
    "conn = -1\n",
    "db_fp = os.path.join(\"data\", \"nba.sqlite\")\n",
    "assert os.path.exists(db_fp), \"Database file does not exist\"\n",
    "\n",
    "\n",
    "conn = sql.connect(db_fp)\n",
    "assert conn != -1, \"Database connection failed\""
   ]
  },
  {
   "cell_type": "markdown",
   "id": "d50cbe1d",
   "metadata": {},
   "source": [
    "## common_player_info table"
   ]
  },
  {
   "cell_type": "markdown",
   "id": "1fb3be58",
   "metadata": {},
   "source": [
    "Feature Descriptions\n",
    "\n"
   ]
  },
  {
   "cell_type": "code",
   "execution_count": 3,
   "id": "6b6f3feb",
   "metadata": {},
   "outputs": [
    {
     "data": {
      "text/plain": [
       "Index(['person_id', 'first_name', 'last_name', 'display_first_last',\n",
       "       'display_last_comma_first', 'display_fi_last', 'player_slug',\n",
       "       'birthdate', 'school', 'country', 'last_affiliation', 'height',\n",
       "       'weight', 'season_exp', 'jersey', 'position', 'rosterstatus',\n",
       "       'games_played_current_season_flag', 'team_id', 'team_name',\n",
       "       'team_abbreviation', 'team_code', 'team_city', 'playercode',\n",
       "       'from_year', 'to_year', 'dleague_flag', 'nba_flag', 'games_played_flag',\n",
       "       'draft_year', 'draft_round', 'draft_number', 'greatest_75_flag'],\n",
       "      dtype='object')"
      ]
     },
     "execution_count": 3,
     "metadata": {},
     "output_type": "execute_result"
    }
   ],
   "source": [
    "df = pd.read_sql_query(\"SELECT * FROM common_player_info\", conn)\n",
    "df.columns"
   ]
  },
  {
   "cell_type": "markdown",
   "id": "ebfa0d4e",
   "metadata": {},
   "source": [
    "## game table"
   ]
  },
  {
   "cell_type": "markdown",
   "id": "dd85f8c1",
   "metadata": {},
   "source": [
    "Feature Descriptions\n",
    "\n",
    "season_id: A unique identifier for the NBA season (e.g., 22023 might represent the 2023-2024 season).  \n",
    "game_id: A unique identifier for this specific game.\n",
    "game_date: The date the game was played (e.g., '2023-10-24').\n",
    "season_type: Indicates the part of the season (e.g., 'Regular Season', 'Playoffs', 'Pre Season', 'Play-In').\n",
    "\n",
    "Home Team Information & Stats:\n",
    "\n",
    "team_id_home: The unique numerical identifier for the home team.  \n",
    "team_abbreviation_home: The standard abbreviation for the home team (e.g., 'LAL', 'GSW', 'BOS').  \n",
    "team_name_home: The full name of the home team (e.g., 'Los Angeles Lakers', 'Golden State Warriors').  \n",
    "matchup_home: A string describing the matchup from the home team's perspective (e.g., 'LAL vs. DEN').  \n",
    "wl_home: The result of the game for the home team, likely 'W' for a win or 'L' for a loss.  \n",
    "min: Minutes played in the game. For a team game log, this is usually the total duration (48 for regulation, 53 for 1OT, etc.).  \n",
    "fgm_home: Field Goals Made by the home team.  \n",
    "fga_home: Field Goals Attempted by the home team.  \n",
    "fg_pct_home: Field Goal Percentage for the home team (FGM / FGA).  \n",
    "fg3m_home: Three-Point Field Goals Made by the home team.  \n",
    "fg3a_home: Three-Point Field Goals Attempted by the home team.  \n",
    "fg3_pct_home: Three-Point Field Goal Percentage for the home team (FG3M / FG3A).  \n",
    "ftm_home: Free Throws Made by the home team.  \n",
    "fta_home: Free Throws Attempted by the home team.  \n",
    "ft_pct_home: Free Throw Percentage for the home team (FTM / FTA).  \n",
    "oreb_home: Offensive Rebounds by the home team.  \n",
    "dreb_home: Defensive Rebounds by the home team.  \n",
    "reb_home: Total Rebounds by the home team (OREB + DREB).  \n",
    "ast_home: Assists by the home team.  \n",
    "stl_home: Steals by the home team.  \n",
    "blk_home: Blocks by the home team.  \n",
    "tov_home: Turnovers committed by the home team.  \n",
    "pf_home: Personal Fouls committed by the home team.  \n",
    "pts_home: Total Points scored by the home team.  \n",
    "plus_minus_home: The final score differential for the home team (Points Scored - Points Allowed; essentially pts_home - pts_away).  \n",
    "video_available_home: A flag (likely 1 or 0 / True or False) indicating if video footage/highlights are available for this game, potentially from the home team's perspective or feed.  \n",
    "\n",
    "Away Team Information & Stats:\n",
    "\n",
    "team_id_away: The unique numerical identifier for the away team.  \n",
    "team_abbreviation_away: The standard abbreviation for the away team.  \n",
    "team_name_away: The full name of the away team.  \n",
    "matchup_away: A string describing the matchup from the away team's perspective (e.g., 'DEN @ LAL').  \n",
    "wl_away: The result of the game for the away team, likely 'W' for a win or 'L' for a loss.  \n",
    "fgm_away: Field Goals Made by the away team.  \n",
    "fga_away: Field Goals Attempted by the away team.  \n",
    "fg_pct_away: Field Goal Percentage for the away team.  \n",
    "fg3m_away: Three-Point Field Goals Made by the away team.  \n",
    "fg3a_away: Three-Point Field Goals Attempted by the away team.  \n",
    "fg3_pct_away: Three-Point Field Goal Percentage for the away team.  \n",
    "ftm_away: Free Throws Made by the away team.  \n",
    "fta_away: Free Throws Attempted by the away team.  \n",
    "ft_pct_away: Free Throw Percentage for the away team.  \n",
    "oreb_away: Offensive Rebounds by the away team.  \n",
    "dreb_away: Defensive Rebounds by the away team.  \n",
    "reb_away: Total Rebounds by the away team.  \n",
    "ast_away: Assists by the away team.  \n",
    "stl_away: Steals by the away team.  \n",
    "blk_away: Blocks by the away team.  \n",
    "tov_away: Turnovers committed by the away team.  \n",
    "pf_away: Personal Fouls committed by the away team.  \n",
    "pts_away: Total Points scored by the away team.  \n",
    "plus_minus_away: The final score differential for the away team (Points Scored - Points Allowed; essentially pts_away - pts_home). This should be the negative of plus_minus_home.  \n",
    "video_available_away: A flag indicating if video footage/highlights are available for this game, potentially from the away team's perspective or feed.  "
   ]
  },
  {
   "cell_type": "code",
   "execution_count": 4,
   "id": "50f2f9cc",
   "metadata": {},
   "outputs": [
    {
     "data": {
      "text/plain": [
       "Index(['season_id', 'team_id_home', 'team_abbreviation_home', 'team_name_home',\n",
       "       'game_id', 'game_date', 'matchup_home', 'wl_home', 'min', 'fgm_home',\n",
       "       'fga_home', 'fg_pct_home', 'fg3m_home', 'fg3a_home', 'fg3_pct_home',\n",
       "       'ftm_home', 'fta_home', 'ft_pct_home', 'oreb_home', 'dreb_home',\n",
       "       'reb_home', 'ast_home', 'stl_home', 'blk_home', 'tov_home', 'pf_home',\n",
       "       'pts_home', 'plus_minus_home', 'video_available_home', 'team_id_away',\n",
       "       'team_abbreviation_away', 'team_name_away', 'matchup_away', 'wl_away',\n",
       "       'fgm_away', 'fga_away', 'fg_pct_away', 'fg3m_away', 'fg3a_away',\n",
       "       'fg3_pct_away', 'ftm_away', 'fta_away', 'ft_pct_away', 'oreb_away',\n",
       "       'dreb_away', 'reb_away', 'ast_away', 'stl_away', 'blk_away', 'tov_away',\n",
       "       'pf_away', 'pts_away', 'plus_minus_away', 'video_available_away',\n",
       "       'season_type'],\n",
       "      dtype='object')"
      ]
     },
     "execution_count": 4,
     "metadata": {},
     "output_type": "execute_result"
    }
   ],
   "source": [
    "df = pd.read_sql_query(\"SELECT * FROM game\", conn)\n",
    "\n",
    "df.columns"
   ]
  },
  {
   "cell_type": "markdown",
   "id": "2337ab73",
   "metadata": {},
   "source": [
    "Since our goal is to predict the probability of the home team winning at the start of the game, we need to eliminate features that would not be available to the model. This way, we can avoid data leakage, which would lead to high performance on training set but low performance on test set."
   ]
  },
  {
   "cell_type": "markdown",
   "id": "cca34654",
   "metadata": {},
   "source": [
    "These data-leaking features will include all game metrics. Furthermore, the 'id' columns can be disregarded in the model as they wouldn't provide useful information to the model. Lastly, 'matchup' and 'team_abbreviation' can be dropped, and 'team_name' will used instead to retrieve team data.\n",
    "\n",
    "Resulting features:\n",
    "'game_date', 'team_name_home', 'team_name_away'\n",
    "\n",
    "**The target feature is 'wl_home'.**"
   ]
  }
 ],
 "metadata": {
  "kernelspec": {
   "display_name": "Python 3",
   "language": "python",
   "name": "python3"
  },
  "language_info": {
   "codemirror_mode": {
    "name": "ipython",
    "version": 3
   },
   "file_extension": ".py",
   "mimetype": "text/x-python",
   "name": "python",
   "nbconvert_exporter": "python",
   "pygments_lexer": "ipython3",
   "version": "3.9.0"
  }
 },
 "nbformat": 4,
 "nbformat_minor": 5
}
