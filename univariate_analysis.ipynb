{
 "cells": [
  {
   "cell_type": "markdown",
   "id": "c13d6523",
   "metadata": {},
   "source": [
    "# Univariate Analysis for NBA Dataset"
   ]
  },
  {
   "cell_type": "markdown",
   "id": "02e18a79",
   "metadata": {},
   "source": [
    "## Import Libraries"
   ]
  },
  {
   "cell_type": "code",
   "execution_count": 1,
   "id": "bcc114b4",
   "metadata": {},
   "outputs": [],
   "source": [
    "import sqlite3 as sql\n",
    "import pandas as pd\n",
    "import os\n",
    "\n",
    "from matplotlib import pyplot as plt"
   ]
  },
  {
   "cell_type": "markdown",
   "id": "e6e1b179",
   "metadata": {},
   "source": [
    "# Connect to Database"
   ]
  },
  {
   "cell_type": "code",
   "execution_count": 2,
   "id": "2ad3a5a2",
   "metadata": {},
   "outputs": [],
   "source": [
    "conn = -1\n",
    "db_fp = os.path.join(\"data\", \"nba.sqlite\")\n",
    "assert os.path.exists(db_fp), \"Database file does not exist\"\n",
    "\n",
    "\n",
    "conn = sql.connect(db_fp)\n",
    "assert conn != -1, \"Database connection failed\""
   ]
  }
 ],
 "metadata": {
  "kernelspec": {
   "display_name": "Python 3",
   "language": "python",
   "name": "python3"
  },
  "language_info": {
   "codemirror_mode": {
    "name": "ipython",
    "version": 3
   },
   "file_extension": ".py",
   "mimetype": "text/x-python",
   "name": "python",
   "nbconvert_exporter": "python",
   "pygments_lexer": "ipython3",
   "version": "3.9.0"
  }
 },
 "nbformat": 4,
 "nbformat_minor": 5
}
